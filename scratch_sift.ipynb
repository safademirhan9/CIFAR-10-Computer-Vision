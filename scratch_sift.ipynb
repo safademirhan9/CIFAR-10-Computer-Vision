{
 "cells": [
  {
   "cell_type": "code",
   "execution_count": 1,
   "id": "543d789d-7bed-4535-b644-91a73badeabd",
   "metadata": {},
   "outputs": [],
   "source": [
    "import cv2\n",
    "import numpy as np\n",
    "\n",
    "# Load an example image\n",
    "image = cv2.imread('example_image.jpg', cv2.IMREAD_GRAYSCALE)"
   ]
  },
  {
   "cell_type": "code",
   "execution_count": 37,
   "id": "9625db17-31f3-455e-8e17-1f5ba522dfae",
   "metadata": {},
   "outputs": [],
   "source": [
    "def gaussian_blur(image, ksize, sigma):\n",
    "\n",
    "    # Create a Gaussian kernel\n",
    "    kernel = create_gaussian_kernel(ksize, sigma)\n",
    "\n",
    "    # Pad the image to handle the convolution at the image edges\n",
    "    padding = ksize // 2\n",
    "    image_padded = np.pad(image, ((padding, padding), (padding, padding)), mode='constant')\n",
    "\n",
    "    # Convolve the image with the Gaussian kernel\n",
    "    image_blurred = np.zeros_like(image)\n",
    "    for y in range(image.shape[0]):\n",
    "        for x in range(image.shape[1]):\n",
    "            image_patch = image_padded[y:y + ksize, x:x + ksize]\n",
    "            image_blurred[y, x] = np.sum(image_patch * kernel)\n",
    "\n",
    "    return image_blurred\n",
    "\n",
    "def create_gaussian_kernel(ksize, sigma):\n",
    "\n",
    "    # Create a 1D Gaussian kernel\n",
    "    kernel_1d = np.exp(-0.5 * ((np.arange(-ksize // 2, ksize // 2) / sigma) ** 2))\n",
    "    kernel_1d /= np.sum(kernel_1d)\n",
    "\n",
    "    # Create a 2D Gaussian kernel by multiplying the 1D kernel with its transpose\n",
    "    kernel_2d = np.outer(kernel_1d, kernel_1d)\n",
    "    print(\"Kernel size:\", kernel_2d.shape)\n",
    "\n",
    "    return kernel_2d"
   ]
  },
  {
   "cell_type": "code",
   "execution_count": 38,
   "id": "80ee500e-62f9-482e-a91a-fc9cfd55ca53",
   "metadata": {},
   "outputs": [
    {
     "name": "stdout",
     "output_type": "stream",
     "text": [
      "Kernel size: (5, 5)\n"
     ]
    }
   ],
   "source": [
    "# Step 1: Image preprocessing - Gaussian blur\n",
    "ksize = 5  # Gaussian kernel size\n",
    "sigma = 1.6  # Standard deviation for Gaussian kernel\n",
    "# image = cv2.GaussianBlur(image, (ksize, ksize), sigma)\n",
    "image = gaussian_blur(image, ksize, sigma)"
   ]
  },
  {
   "cell_type": "code",
   "execution_count": 39,
   "id": "f23845dc-19e5-4d46-9e52-09e7e82d0517",
   "metadata": {},
   "outputs": [],
   "source": [
    "# Step 2: Keypoint detection - Difference of Gaussians (DoG)\n",
    "# Compute image pyramid with different scales\n",
    "scales = [1, 2, 4, 8, 16]  # Scales for each octave\n",
    "dog_pyramid = []  # Difference of Gaussians (DoG) pyramid\n",
    "for scale in scales:\n",
    "    # Scale down the image\n",
    "    scaled_image = cv2.resize(image, None, fx=1/scale, fy=1/scale)\n",
    "    # Compute Gaussian blur at this scale\n",
    "    ksize = int(2 * np.ceil(3 * sigma * scale) + 1)  # Kernel size\n",
    "    blurred_image = cv2.GaussianBlur(scaled_image, (ksize, ksize), sigma)\n",
    "    # Compute DoG by subtracting neighboring scales\n",
    "    dog = blurred_image - cv2.resize(blurred_image, (scaled_image.shape[1], scaled_image.shape[0]))\n",
    "    dog_pyramid.append(dog)"
   ]
  },
  {
   "cell_type": "code",
   "execution_count": 40,
   "id": "ed0d5f80-2959-40d8-80e7-b2650e2efe0d",
   "metadata": {},
   "outputs": [
    {
     "name": "stdout",
     "output_type": "stream",
     "text": [
      "372\n",
      "186\n",
      "93\n",
      "\n",
      "\n",
      "\n",
      "5\n",
      "372\n",
      "372\n"
     ]
    }
   ],
   "source": [
    "dim1 = len(dog_pyramid)\n",
    "dim2 = len(dog_pyramid[0])\n",
    "dim3 = len(dog_pyramid[0][0])\n",
    "print(dog_pyramid[0].shape[0])\n",
    "print(dog_pyramid[1].shape[0])\n",
    "print(dog_pyramid[2].shape[0])\n",
    "print('\\n\\n')\n",
    "print(dim1)\n",
    "print(dim2)\n",
    "print(dim3)"
   ]
  },
  {
   "cell_type": "code",
   "execution_count": 41,
   "id": "236c9533-0fe6-4622-94fd-022665eba9f5",
   "metadata": {},
   "outputs": [
    {
     "ename": "AxisError",
     "evalue": "axis 2 is out of bounds for array of dimension 2",
     "output_type": "error",
     "traceback": [
      "\u001b[1;31m---------------------------------------------------------------------------\u001b[0m",
      "\u001b[1;31mAxisError\u001b[0m                                 Traceback (most recent call last)",
      "\u001b[1;32m~\\AppData\\Local\\Temp\\ipykernel_17348\\2616903827.py\u001b[0m in \u001b[0;36m<module>\u001b[1;34m\u001b[0m\n\u001b[0;32m      5\u001b[0m         \u001b[1;32mfor\u001b[0m \u001b[0mx\u001b[0m \u001b[1;32min\u001b[0m \u001b[0mrange\u001b[0m\u001b[1;33m(\u001b[0m\u001b[1;36m1\u001b[0m\u001b[1;33m,\u001b[0m \u001b[0mdog_pyramid\u001b[0m\u001b[1;33m[\u001b[0m\u001b[0mi\u001b[0m\u001b[1;33m]\u001b[0m\u001b[1;33m.\u001b[0m\u001b[0mshape\u001b[0m\u001b[1;33m[\u001b[0m\u001b[1;36m1\u001b[0m\u001b[1;33m]\u001b[0m \u001b[1;33m-\u001b[0m \u001b[1;36m1\u001b[0m\u001b[1;33m)\u001b[0m\u001b[1;33m:\u001b[0m\u001b[1;33m\u001b[0m\u001b[1;33m\u001b[0m\u001b[0m\n\u001b[0;32m      6\u001b[0m             \u001b[1;31m# Check if the pixel is a local extrema in the 3x3x3 neighborhood\u001b[0m\u001b[1;33m\u001b[0m\u001b[1;33m\u001b[0m\u001b[0m\n\u001b[1;32m----> 7\u001b[1;33m             patch = np.concatenate([dog_pyramid[i-1][y-1:y+2, x-1:x+2], \n\u001b[0m\u001b[0;32m      8\u001b[0m                                     \u001b[0mdog_pyramid\u001b[0m\u001b[1;33m[\u001b[0m\u001b[0mi\u001b[0m\u001b[1;33m]\u001b[0m\u001b[1;33m[\u001b[0m\u001b[0my\u001b[0m\u001b[1;33m-\u001b[0m\u001b[1;36m1\u001b[0m\u001b[1;33m:\u001b[0m\u001b[0my\u001b[0m\u001b[1;33m+\u001b[0m\u001b[1;36m2\u001b[0m\u001b[1;33m,\u001b[0m \u001b[0mx\u001b[0m\u001b[1;33m-\u001b[0m\u001b[1;36m1\u001b[0m\u001b[1;33m:\u001b[0m\u001b[0mx\u001b[0m\u001b[1;33m+\u001b[0m\u001b[1;36m2\u001b[0m\u001b[1;33m]\u001b[0m\u001b[1;33m,\u001b[0m\u001b[1;33m\u001b[0m\u001b[1;33m\u001b[0m\u001b[0m\n\u001b[0;32m      9\u001b[0m                                     dog_pyramid[i+1][y-1:y+2, x-1:x+2]], axis=2)\n",
      "\u001b[1;32m<__array_function__ internals>\u001b[0m in \u001b[0;36mconcatenate\u001b[1;34m(*args, **kwargs)\u001b[0m\n",
      "\u001b[1;31mAxisError\u001b[0m: axis 2 is out of bounds for array of dimension 2"
     ]
    }
   ],
   "source": [
    "# Step 3: Keypoint localization - Find local extrema in DoG pyramid\n",
    "keypoints = []\n",
    "for i in range(1, len(dog_pyramid) - 1):\n",
    "    for y in range(1, dog_pyramid[i].shape[0] - 1):\n",
    "        for x in range(1, dog_pyramid[i].shape[1] - 1):\n",
    "            # Check if the pixel is a local extrema in the 3x3x3 neighborhood\n",
    "            patch = np.concatenate([dog_pyramid[i-1][y-1:y+2, x-1:x+2], \n",
    "                                    dog_pyramid[i][y-1:y+2, x-1:x+2],\n",
    "                                    dog_pyramid[i+1][y-1:y+2, x-1:x+2]], axis=2)\n",
    "            value = dog_pyramid[i][y, x]\n",
    "            if (value == np.max(patch) or value == np.min(patch)) and np.abs(value) > 0.03 * 255:  # Contrast threshold\n",
    "                # Compute subpixel location using quadratic fitting\n",
    "                dx = (dog_pyramid[i][y, x+1] - dog_pyramid[i][y, x-1]) / 2\n",
    "                dy = (dog_pyramid[i+1][y, x] - dog_pyramid[i-1][y, x]) / 2\n",
    "                ds = (dog_pyramid[i+1][y, x] - dog_pyramid[i-1][y, x]) / 2\n",
    "                dxx = dog_pyramid[i][y, x+1] + dog_pyramid[i][y, x-1] - 2 * dog_pyramid[i][y, x]\n",
    "                dyy = dog_pyramid[i+1][y, x] + dog_pyramid[i-1][y, x] - 2 * dog_pyramid[i][y, x]\n",
    "                dss = dog_pyramid\n"
   ]
  },
  {
   "cell_type": "code",
   "execution_count": null,
   "id": "e2042417-9edf-4347-908f-3f39f3669962",
   "metadata": {},
   "outputs": [],
   "source": []
  }
 ],
 "metadata": {
  "kernelspec": {
   "display_name": "Python 3 (ipykernel)",
   "language": "python",
   "name": "python3"
  },
  "language_info": {
   "codemirror_mode": {
    "name": "ipython",
    "version": 3
   },
   "file_extension": ".py",
   "mimetype": "text/x-python",
   "name": "python",
   "nbconvert_exporter": "python",
   "pygments_lexer": "ipython3",
   "version": "3.9.13"
  }
 },
 "nbformat": 4,
 "nbformat_minor": 5
}
