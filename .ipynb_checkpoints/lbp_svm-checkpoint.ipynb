{
 "cells": [
  {
   "cell_type": "code",
   "execution_count": null,
   "id": "bca6efec-b49d-4991-936f-5a145e7c9ac1",
   "metadata": {},
   "outputs": [],
   "source": [
    "import cv2\n",
    "import numpy as np\n",
    "from sklearn.model_selection import train_test_split\n",
    "from sklearn.svm import SVC\n",
    "from sklearn.metrics import accuracy_score\n",
    "from keras.datasets import cifar10\n",
    "from skimage.feature import local_binary_pattern\n",
    "\n",
    "# Load CIFAR-10 dataset\n",
    "(X_train, y_train), (X_test, y_test) = cifar10.load_data()\n",
    "\n",
    "# Convert images to grayscale and resize to (64, 64)\n",
    "def preprocess(img):\n",
    "    img_gray = cv2.cvtColor(img, cv2.COLOR_RGB2GRAY)\n",
    "    img_resized = cv2.resize(img_gray, (64, 64))\n",
    "    return img_resized\n",
    "\n",
    "X_train_processed = np.array([preprocess(img) for img in X_train])\n",
    "X_test_processed = np.array([preprocess(img) for img in X_test])\n",
    "\n",
    "# Extract LBP features from images\n",
    "def extract_lbp_features(img):\n",
    "    lbp = local_binary_pattern(img, 8, 1)\n",
    "    hist, _ = np.histogram(lbp, bins=np.arange(0, 257), range=(0, 256))\n",
    "    hist = hist.astype('float32')\n",
    "    hist /= (hist.sum() + 1e-7)\n",
    "    return hist\n",
    "\n",
    "# Loop through each image in the training set\n",
    "X_train_features = []\n",
    "for img in X_train_processed:\n",
    "    features = extract_lbp_features(img)\n",
    "    X_train_features.append(features)\n",
    "\n",
    "# Loop through each image in the test set\n",
    "X_test_features = []\n",
    "for img in X_test_processed:\n",
    "    features = extract_lbp_features(img)\n",
    "    X_test_features.append(features)\n",
    "\n",
    "X_train_features = np.vstack(X_train_features)\n",
    "X_test_features = np.vstack(X_test_features)\n",
    "\n",
    "# Split the data into training and testing sets\n",
    "X_train, X_test, y_train, y_test = train_test_split(X_train_features, y_train, test_size=0.2, random_state=42)\n",
    "\n",
    "# Train SVM model\n",
    "model = SVC(kernel='linear', C=1.0, random_state=42)\n",
    "model.fit(X_train, y_train)\n",
    "\n",
    "# Evaluate model on test set\n",
    "y_pred = model.predict(X_test)\n",
    "accuracy = accuracy_score(y_test, y_pred)\n",
    "print(\"Accuracy:\", accuracy)\n"
   ]
  }
 ],
 "metadata": {
  "kernelspec": {
   "display_name": "Python 3 (ipykernel)",
   "language": "python",
   "name": "python3"
  },
  "language_info": {
   "codemirror_mode": {
    "name": "ipython",
    "version": 3
   },
   "file_extension": ".py",
   "mimetype": "text/x-python",
   "name": "python",
   "nbconvert_exporter": "python",
   "pygments_lexer": "ipython3",
   "version": "3.9.13"
  }
 },
 "nbformat": 4,
 "nbformat_minor": 5
}
