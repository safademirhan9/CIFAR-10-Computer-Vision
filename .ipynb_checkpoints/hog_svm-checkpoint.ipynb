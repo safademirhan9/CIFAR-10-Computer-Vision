{
 "cells": [
  {
   "cell_type": "markdown",
   "id": "a50d6157",
   "metadata": {},
   "source": [
    "## Import necessary libraries"
   ]
  },
  {
   "cell_type": "code",
   "execution_count": 2,
   "id": "cfa7d7e6",
   "metadata": {},
   "outputs": [],
   "source": [
    "import cv2\n",
    "import numpy as np\n",
    "from skimage.feature import hog\n",
    "from sklearn import svm\n",
    "from sklearn.metrics import accuracy_score\n",
    "from sklearn.model_selection import train_test_split\n",
    "from keras.datasets import cifar10"
   ]
  },
  {
   "cell_type": "markdown",
   "id": "ae58f525",
   "metadata": {},
   "source": [
    "## Load CIFAR-10 dataset"
   ]
  },
  {
   "cell_type": "code",
   "execution_count": 3,
   "id": "4b5546cf",
   "metadata": {},
   "outputs": [],
   "source": [
    "(X_train, y_train), (X_test, y_test) = cifar10.load_data()"
   ]
  },
  {
   "cell_type": "markdown",
   "id": "3e4ff731",
   "metadata": {},
   "source": [
    "## Convert images to grayscale and resize them to (128, 128)"
   ]
  },
  {
   "cell_type": "code",
   "execution_count": 4,
   "id": "4839938a",
   "metadata": {},
   "outputs": [],
   "source": [
    "def preprocess(img):\n",
    "    img_gray = cv2.cvtColor(img, cv2.COLOR_RGB2GRAY)\n",
    "    img_resized = cv2.resize(img_gray, (128, 128))\n",
    "    return img_resized\n",
    "\n",
    "X_train_processed = np.array([preprocess(img) for img in X_train])\n",
    "X_test_processed = np.array([preprocess(img) for img in X_test])"
   ]
  },
  {
   "cell_type": "markdown",
   "id": "8abf3179",
   "metadata": {
    "tags": []
   },
   "source": [
    "## Extract HOG features from images (Run this cell block or...)"
   ]
  },
  {
   "cell_type": "code",
   "execution_count": null,
   "id": "aa39cc73",
   "metadata": {},
   "outputs": [],
   "source": [
    "def extract_hog_features(img):\n",
    "    features = hog(img, orientations=9, pixels_per_cell=(8, 8), cells_per_block=(2, 2))\n",
    "    return features\n",
    "\n",
    "X_train_features = np.array([extract_hog_features(img) for img in X_train_processed])\n",
    "X_test_features = np.array([extract_hog_features(img) for img in X_test_processed])"
   ]
  },
  {
   "cell_type": "markdown",
   "id": "49f828af-ef89-4266-bb65-33ae7f6d037d",
   "metadata": {
    "tags": []
   },
   "source": [
    "## Extract my HOG implementation features from images (...this cell block)"
   ]
  },
  {
   "cell_type": "code",
   "execution_count": 7,
   "id": "ada773a7-0461-4d5f-a581-3fff10d5d4f1",
   "metadata": {},
   "outputs": [],
   "source": [
    "import numpy as np\n",
    "import cv2\n",
    "from skimage import exposure\n",
    "\n",
    "def calculate_gradient(image):\n",
    "\n",
    "    # Compute the x and y derivatives using Sobel filters\n",
    "    sobel_x = cv2.Sobel(image, cv2.CV_64F, 1, 0, ksize=3)\n",
    "    sobel_y = cv2.Sobel(image, cv2.CV_64F, 0, 1, ksize=3)\n",
    "\n",
    "    # Compute the gradient magnitude and orientation\n",
    "    gradient_magnitude = np.sqrt(sobel_x**2 + sobel_y**2)\n",
    "    gradient_orientation = np.arctan2(sobel_y, sobel_x)\n",
    "\n",
    "    return gradient_magnitude, gradient_orientation\n",
    "\n",
    "def histogram_of_oriented_gradients(image, orientations=9, pixels_per_cell=(8, 8), cells_per_block=(3, 3)):\n",
    "\n",
    "    # Convert the input image to grayscale\n",
    "    if len(image.shape) == 3:\n",
    "        image = np.mean(image, axis=2)\n",
    "\n",
    "    # Calculate gradients using Sobel filters\n",
    "    gx = sobel_filter(image, axis=0)\n",
    "    gy = sobel_filter(image, axis=1)\n",
    "\n",
    "    # Calculate magnitudes and orientations of gradients\n",
    "    magnitude = np.sqrt(gx ** 2 + gy ** 2)\n",
    "    orientation = np.arctan2(gy, gx) * (180 / np.pi)\n",
    "\n",
    "    # Normalize the orientation values to the range [0, orientations)\n",
    "    orientation = (orientation + 180) % 180\n",
    "\n",
    "    # Calculate the number of cells in the x and y directions\n",
    "    num_cells_x = int(image.shape[1] / pixels_per_cell[1])\n",
    "    num_cells_y = int(image.shape[0] / pixels_per_cell[0])\n",
    "\n",
    "    # Initialize the HOG feature representation\n",
    "    hog_features = np.zeros((num_cells_y, num_cells_x, orientations))\n",
    "\n",
    "    # Loop over each cell in the image\n",
    "    for y in range(num_cells_y):\n",
    "        for x in range(num_cells_x):\n",
    "            # Extract the magnitude and orientation values for the current cell\n",
    "            cell_magnitude = magnitude[y * pixels_per_cell[0]:(y + 1) * pixels_per_cell[0],\n",
    "                                        x * pixels_per_cell[1]:(x + 1) * pixels_per_cell[1]]\n",
    "            cell_orientation = orientation[y * pixels_per_cell[0]:(y + 1) * pixels_per_cell[0],\n",
    "                                            x * pixels_per_cell[1]:(x + 1) * pixels_per_cell[1]]\n",
    "\n",
    "            # Calculate the histogram of orientations for the current cell\n",
    "            histogram, _ = np.histogram(cell_orientation, bins=orientations, range=(0, 180), weights=cell_magnitude)\n",
    "\n",
    "            # Store the histogram in the HOG feature representation\n",
    "            hog_features[y, x] = histogram\n",
    "\n",
    "    # Perform block normalization\n",
    "    if cells_per_block is not None:\n",
    "        block_size_y = num_cells_y // cells_per_block[0]\n",
    "        block_size_x = num_cells_x // cells_per_block[1]\n",
    "        hog_features = np.reshape(hog_features, (block_size_y, cells_per_block[0], block_size_x, cells_per_block[1], orientations))\n",
    "        hog_features = hog_features.sum(axis=(1, 3))  # Sum across cells in each block\n",
    "        hog_features = hog_features / np.sqrt(np.sum(hog_features**2) + 1e-8)  # L2 normalize\n",
    "\n",
    "    # Flatten the HOG feature representation\n",
    "    hog_features = hog_features.flatten()\n",
    "\n",
    "    return hog_features\n",
    "\n",
    "def sobel_filter(image, axis):\n",
    "\n",
    "    # Define the Sobel kernels for x and y directions\n",
    "    sobel_x = np.array([[-1, 0, 1],\n",
    "                        [-2, 0, 2],\n",
    "                        [-1, 0, 1]])\n",
    "    \n",
    "    sobel_y = np.array([[-1, -2, -1],\n",
    "                        [0, 0, 0],\n",
    "                        [1, 2, 1]])\n",
    "\n",
    "    # Select the appropriate kernel based on the input axis\n",
    "    if axis == 0:\n",
    "        kernel = sobel_x\n",
    "    elif axis == 1:\n",
    "        kernel = sobel_y\n",
    "    else:\n",
    "        raise ValueError(\"Invalid axis value. Must be 0 or 1.\")\n",
    "\n",
    "    # Get the dimensions of the input image\n",
    "    height, width = image.shape\n",
    "\n",
    "    # Initialize the filtered image with zeros\n",
    "    filtered_image = np.zeros_like(image)\n",
    "\n",
    "    # Perform the convolution\n",
    "    for y in range(1, height-1):\n",
    "        for x in range(1, width-1):\n",
    "            # Extract the local neighborhood around the current pixel\n",
    "            neighborhood = image[y-1:y+2, x-1:x+2]\n",
    "\n",
    "            # Apply the Sobel kernel and sum the results\n",
    "            filtered_value = np.sum(neighborhood * kernel)\n",
    "\n",
    "            # Store the filtered value in the output image\n",
    "            filtered_image[y, x] = filtered_value\n",
    "\n",
    "    return filtered_image\n"
   ]
  },
  {
   "cell_type": "code",
   "execution_count": null,
   "id": "596215e2-26ff-4f89-aa71-c6d832a6d46e",
   "metadata": {},
   "outputs": [],
   "source": [
    "def extract_hog_features(img):\n",
    "    features = histogram_of_oriented_gradients(img, orientations=9, pixels_per_cell=(8, 8), cells_per_block=(2, 2))\n",
    "    return features\n",
    "\n",
    "X_train_features = np.array([extract_hog_features(img) for img in X_train_processed])\n",
    "X_test_features = np.array([extract_hog_features(img) for img in X_test_processed])"
   ]
  },
  {
   "cell_type": "markdown",
   "id": "7129168b",
   "metadata": {},
   "source": [
    "## Flatten features"
   ]
  },
  {
   "cell_type": "code",
   "execution_count": null,
   "id": "630b5030",
   "metadata": {},
   "outputs": [],
   "source": [
    "X_train_flattened = X_train_features.reshape(X_train_features.shape[0], -1)\n",
    "X_test_flattened = X_test_features.reshape(X_test_features.shape[0], -1)"
   ]
  },
  {
   "cell_type": "markdown",
   "id": "5122c07f",
   "metadata": {},
   "source": [
    "## Train SVM model"
   ]
  },
  {
   "cell_type": "code",
   "execution_count": null,
   "id": "8a2809bc",
   "metadata": {},
   "outputs": [],
   "source": [
    "model = svm.SVC(kernel='linear', C=1, random_state=42)\n",
    "model.fit(X_train_features, y_train)"
   ]
  },
  {
   "cell_type": "markdown",
   "id": "369f1284",
   "metadata": {},
   "source": [
    "## Evaluate model on test set"
   ]
  },
  {
   "cell_type": "code",
   "execution_count": null,
   "id": "323ae3f5",
   "metadata": {},
   "outputs": [],
   "source": [
    "y_pred = model.predict(X_test_features)\n",
    "accuracy = accuracy_score(y_test, y_pred)\n",
    "print(\"Accuracy:\", accuracy)"
   ]
  },
  {
   "cell_type": "code",
   "execution_count": null,
   "id": "0c35651a-08e1-45a0-ba27-7461b062ecf6",
   "metadata": {},
   "outputs": [],
   "source": []
  }
 ],
 "metadata": {
  "kernelspec": {
   "display_name": "Python 3 (ipykernel)",
   "language": "python",
   "name": "python3"
  },
  "language_info": {
   "codemirror_mode": {
    "name": "ipython",
    "version": 3
   },
   "file_extension": ".py",
   "mimetype": "text/x-python",
   "name": "python",
   "nbconvert_exporter": "python",
   "pygments_lexer": "ipython3",
   "version": "3.9.13"
  },
  "vscode": {
   "interpreter": {
    "hash": "4e5070f347afcddb4c93d4aaa35e31949f8e0ee28187047743e31c60ee29e25c"
   }
  }
 },
 "nbformat": 4,
 "nbformat_minor": 5
}
