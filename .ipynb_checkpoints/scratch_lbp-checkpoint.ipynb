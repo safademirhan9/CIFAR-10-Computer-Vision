{
 "cells": [
  {
   "cell_type": "code",
   "execution_count": 1,
   "id": "2f3bc644-5c54-4534-a393-0a779711a5b0",
   "metadata": {},
   "outputs": [],
   "source": [
    "import numpy as np"
   ]
  },
  {
   "cell_type": "markdown",
   "id": "36f07937-5e86-4d61-a818-2e4d98675ffa",
   "metadata": {},
   "source": [
    "## Local Binary Patterns\n",
    "Compute Local Binary Patterns (LBP) for an input grayscale image.\n",
    "\n",
    "    Args:\n",
    "        image (numpy array): Input grayscale image.\n",
    "        num_points (int): Number of points in the circular neighborhood.\n",
    "        radius (int): Radius of the circular neighborhood.\n",
    "\n",
    "    Returns:\n",
    "        numpy array: LBP image."
   ]
  },
  {
   "cell_type": "code",
   "execution_count": 2,
   "id": "c5936c80-c0bf-4247-8d6a-b15b518043ed",
   "metadata": {},
   "outputs": [],
   "source": [
    "def local_binary_patterns(image, num_points, radius):\n",
    "    \n",
    "    # Get the dimensions of the input image\n",
    "    height, width = image.shape\n",
    "\n",
    "    # Initialize the LBP image with zeros\n",
    "    lbp_image = np.zeros((height, width), dtype=np.uint8)\n",
    "\n",
    "    # Loop through each pixel in the image\n",
    "    for y in range(radius, height - radius):\n",
    "        for x in range(radius, width - radius):\n",
    "            # Extract the circular neighborhood around the current pixel\n",
    "            circular_neighborhood = image[y - radius:y + radius + 1, x - radius:x + radius + 1]\n",
    "\n",
    "            # Compute the LBP code for the current pixel\n",
    "            center_pixel = circular_neighborhood[radius, radius]\n",
    "            lbp_code = 0\n",
    "            for i in range(num_points):\n",
    "                x_i = int(radius * np.cos(2 * np.pi * i / num_points)) + radius\n",
    "                y_i = int(radius * np.sin(2 * np.pi * i / num_points)) + radius\n",
    "                lbp_code |= (circular_neighborhood[y_i, x_i] >= center_pixel) << i\n",
    "\n",
    "            # Store the LBP code in the LBP image\n",
    "            lbp_image[y, x] = lbp_code\n",
    "\n",
    "    return lbp_image\n"
   ]
  }
 ],
 "metadata": {
  "kernelspec": {
   "display_name": "Python 3 (ipykernel)",
   "language": "python",
   "name": "python3"
  },
  "language_info": {
   "codemirror_mode": {
    "name": "ipython",
    "version": 3
   },
   "file_extension": ".py",
   "mimetype": "text/x-python",
   "name": "python",
   "nbconvert_exporter": "python",
   "pygments_lexer": "ipython3",
   "version": "3.9.13"
  }
 },
 "nbformat": 4,
 "nbformat_minor": 5
}
