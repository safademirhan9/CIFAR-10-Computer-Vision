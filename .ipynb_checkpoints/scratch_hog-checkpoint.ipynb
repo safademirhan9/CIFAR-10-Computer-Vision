{
 "cells": [
  {
   "cell_type": "code",
   "execution_count": 12,
   "id": "e8db2601-840f-42d4-896f-bc3da246b4aa",
   "metadata": {},
   "outputs": [],
   "source": [
    "import numpy as np\n",
    "import cv2\n",
    "from skimage import exposure"
   ]
  },
  {
   "cell_type": "code",
   "execution_count": 7,
   "id": "9d15df45-ceb2-4550-b521-571aac527e60",
   "metadata": {},
   "outputs": [],
   "source": [
    "def calculate_gradient(image):\n",
    "\n",
    "    # Compute the x and y derivatives using Sobel filters\n",
    "    sobel_x = cv2.Sobel(image, cv2.CV_64F, 1, 0, ksize=3)\n",
    "    sobel_y = cv2.Sobel(image, cv2.CV_64F, 0, 1, ksize=3)\n",
    "\n",
    "    # Compute the gradient magnitude and orientation\n",
    "    gradient_magnitude = np.sqrt(sobel_x**2 + sobel_y**2)\n",
    "    gradient_orientation = np.arctan2(sobel_y, sobel_x)\n",
    "\n",
    "    return gradient_magnitude, gradient_orientation"
   ]
  },
  {
   "cell_type": "markdown",
   "id": "315ad729-7c08-4171-a437-9448547276c6",
   "metadata": {
    "jp-MarkdownHeadingCollapsed": true,
    "tags": []
   },
   "source": [
    "## Sobel filter\n",
    "Compute the Sobel filter for an input image in the x or y direction.\n",
    "\n",
    "    Args:\n",
    "        image (numpy array): Input image.\n",
    "        axis (int): 0 for x-axis, 1 for y-axis.\n",
    "\n",
    "    Returns:\n",
    "        numpy array: Sobel filtered image."
   ]
  },
  {
   "cell_type": "code",
   "execution_count": 10,
   "id": "370dee92-821b-481d-b139-a3cc08aecf91",
   "metadata": {},
   "outputs": [],
   "source": [
    "def sobel_filter(image, axis):\n",
    "\n",
    "    # Define the Sobel kernels for x and y directions\n",
    "    sobel_x = np.array([[-1, 0, 1],\n",
    "                        [-2, 0, 2],\n",
    "                        [-1, 0, 1]])\n",
    "    \n",
    "    sobel_y = np.array([[-1, -2, -1],\n",
    "                        [0, 0, 0],\n",
    "                        [1, 2, 1]])\n",
    "\n",
    "    # Select the appropriate kernel based on the input axis\n",
    "    if axis == 0:\n",
    "        kernel = sobel_x\n",
    "    elif axis == 1:\n",
    "        kernel = sobel_y\n",
    "    else:\n",
    "        raise ValueError(\"Invalid axis value. Must be 0 or 1.\")\n",
    "\n",
    "    # Get the dimensions of the input image\n",
    "    height, width = image.shape\n",
    "\n",
    "    # Initialize the filtered image with zeros\n",
    "    filtered_image = np.zeros_like(image)\n",
    "\n",
    "    # Perform the convolution\n",
    "    for y in range(1, height-1):\n",
    "        for x in range(1, width-1):\n",
    "            # Extract the local neighborhood around the current pixel\n",
    "            neighborhood = image[y-1:y+2, x-1:x+2]\n",
    "\n",
    "            # Apply the Sobel kernel and sum the results\n",
    "            filtered_value = np.sum(neighborhood * kernel)\n",
    "\n",
    "            # Store the filtered value in the output image\n",
    "            filtered_image[y, x] = filtered_value\n",
    "\n",
    "    return filtered_image\n"
   ]
  },
  {
   "cell_type": "markdown",
   "id": "f62d6c49-e6ba-4a52-9bd7-b2d7861bdbc4",
   "metadata": {
    "tags": []
   },
   "source": [
    "## Histogram of Oriented Gradients (HOG)\n",
    "    Compute the Histogram of Oriented Gradients (HOG) features for an input image.\n",
    "\n",
    "    Args:\n",
    "        image (numpy array): Input image.\n",
    "        orientations (int): Number of orientation bins for the histograms (default is 9).\n",
    "        pixels_per_cell (tuple): Number of pixels per cell in the image (default is (8, 8)).\n",
    "        cells_per_block (tuple): Number of cells per block for block normalization (default is (3, 3)).\n",
    "\n",
    "    Returns:\n",
    "        numpy array: HOG feature vector."
   ]
  },
  {
   "cell_type": "code",
   "execution_count": 13,
   "id": "743132d4-e1f3-4eaa-b733-64509b481625",
   "metadata": {},
   "outputs": [],
   "source": [
    "def histogram_of_oriented_gradients(image, orientations=9, pixels_per_cell=(8, 8), cells_per_block=(3, 3)):\n",
    "\n",
    "    # Convert the input image to grayscale\n",
    "    if len(image.shape) == 3:\n",
    "        image = np.mean(image, axis=2)\n",
    "\n",
    "    # Calculate gradients using Sobel filters\n",
    "    gx = sobel_filter(image, axis=0)\n",
    "    gy = sobel_filter(image, axis=1)\n",
    "\n",
    "    # Calculate magnitudes and orientations of gradients\n",
    "    magnitude = np.sqrt(gx ** 2 + gy ** 2)\n",
    "    orientation = np.arctan2(gy, gx) * (180 / np.pi)\n",
    "\n",
    "    # Normalize the orientation values to the range [0, orientations)\n",
    "    orientation = (orientation + 180) % 180\n",
    "\n",
    "    # Calculate the number of cells in the x and y directions\n",
    "    num_cells_x = int(image.shape[1] / pixels_per_cell[1])\n",
    "    num_cells_y = int(image.shape[0] / pixels_per_cell[0])\n",
    "\n",
    "    # Initialize the HOG feature representation\n",
    "    hog_features = np.zeros((num_cells_y, num_cells_x, orientations))\n",
    "\n",
    "    # Loop over each cell in the image\n",
    "    for y in range(num_cells_y):\n",
    "        for x in range(num_cells_x):\n",
    "            # Extract the magnitude and orientation values for the current cell\n",
    "            cell_magnitude = magnitude[y * pixels_per_cell[0]:(y + 1) * pixels_per_cell[0],\n",
    "                                        x * pixels_per_cell[1]:(x + 1) * pixels_per_cell[1]]\n",
    "            cell_orientation = orientation[y * pixels_per_cell[0]:(y + 1) * pixels_per_cell[0],\n",
    "                                            x * pixels_per_cell[1]:(x + 1) * pixels_per_cell[1]]\n",
    "\n",
    "            # Calculate the histogram of orientations for the current cell\n",
    "            histogram, _ = np.histogram(cell_orientation, bins=orientations, range=(0, 180), weights=cell_magnitude)\n",
    "\n",
    "            # Store the histogram in the HOG feature representation\n",
    "            hog_features[y, x] = histogram\n",
    "\n",
    "    # Perform block normalization\n",
    "    if cells_per_block is not None:\n",
    "        block_size_y = num_cells_y // cells_per_block[0]\n",
    "        block_size_x = num_cells_x // cells_per_block[1]\n",
    "        hog_features = np.reshape(hog_features, (block_size_y, cells_per_block[0], block_size_x, cells_per_block[1], orientations))\n",
    "        hog_features = hog_features.sum(axis=(1, 3))  # Sum across cells in each block\n",
    "        hog_features = hog_features / np.sqrt(np.sum(hog_features**2) + 1e-8)  # L2 normalize\n",
    "\n",
    "    # Flatten the HOG feature representation\n",
    "    hog_features = hog_features.flatten()\n",
    "\n",
    "    return hog_features\n"
   ]
  },
  {
   "cell_type": "markdown",
   "id": "26f5a8dc-9a8a-4305-b5dc-b70a9628318f",
   "metadata": {
    "jp-MarkdownHeadingCollapsed": true,
    "tags": []
   },
   "source": [
    "## Calculate Gradient\n",
    "#### (not needed for code to work, a HOG process)\n",
    "Calculate the gradient magnitude and orientation of an input grayscale image.\n",
    "\n",
    "    Args:\n",
    "        image (numpy array): Input grayscale image.\n",
    "\n",
    "    Returns:\n",
    "        tuple: Gradient magnitude and orientation."
   ]
  },
  {
   "cell_type": "code",
   "execution_count": 11,
   "id": "8230a867-fd42-4cf2-8b91-85553176308f",
   "metadata": {},
   "outputs": [],
   "source": [
    "def calculate_gradient(image):\n",
    "\n",
    "    # Compute the x and y derivatives using Sobel filters\n",
    "    sobel_x = cv2.Sobel(image, cv2.CV_64F, 1, 0, ksize=3)\n",
    "    sobel_y = cv2.Sobel(image, cv2.CV_64F, 0, 1, ksize=3)\n",
    "\n",
    "    # Compute the gradient magnitude and orientation\n",
    "    gradient_magnitude = np.sqrt(sobel_x**2 + sobel_y**2)\n",
    "    gradient_orientation = np.arctan2(sobel_y, sobel_x)\n",
    "\n",
    "    return gradient_magnitude, gradient_orientation"
   ]
  },
  {
   "cell_type": "markdown",
   "id": "9053241e-6145-4b8f-88e2-637b7df9a9ba",
   "metadata": {
    "jp-MarkdownHeadingCollapsed": true,
    "tags": []
   },
   "source": [
    "## Compute histogram\n",
    "#### (not needed for code to work a HOG process)\n",
    "Compute the histogram of oriented gradients for an input gradient magnitude and orientation.\n",
    "\n",
    "    Args:\n",
    "        gradient_magnitude (numpy array): Gradient magnitude.\n",
    "        gradient_orientation (numpy array): Gradient orientation.\n",
    "        num_bins (int): Number of bins in the histogram.\n",
    "\n",
    "    Returns:\n",
    "        numpy array: Histogram of oriented gradients."
   ]
  },
  {
   "cell_type": "code",
   "execution_count": 9,
   "id": "ed6accbc-cb7b-4a0e-8d2c-cdd26946048f",
   "metadata": {},
   "outputs": [],
   "source": [
    "def compute_histogram(gradient_magnitude, gradient_orientation, num_bins):\n",
    "    \n",
    "    # Get the dimensions of the input gradient magnitude\n",
    "    height, width = gradient_magnitude.shape\n",
    "\n",
    "    # Initialize the histogram with zeros\n",
    "    histogram = np.zeros((num_bins,), dtype=np.float32)\n",
    "\n",
    "    # Compute the histogram\n",
    "    bin_size = 2 * np.pi / num_bins\n",
    "    for y in range(height):\n",
    "        for x in range(width):\n",
    "            # Compute the bin index\n",
    "            bin_index = int((gradient_orientation[y, x] + np.pi) / bin_size)\n",
    "\n",
    "            # Update the histogram\n",
    "            histogram[bin_index] += gradient_magnitude[y, x]\n",
    "\n",
    "    return histogram"
   ]
  }
 ],
 "metadata": {
  "kernelspec": {
   "display_name": "Python 3 (ipykernel)",
   "language": "python",
   "name": "python3"
  },
  "language_info": {
   "codemirror_mode": {
    "name": "ipython",
    "version": 3
   },
   "file_extension": ".py",
   "mimetype": "text/x-python",
   "name": "python",
   "nbconvert_exporter": "python",
   "pygments_lexer": "ipython3",
   "version": "3.9.13"
  }
 },
 "nbformat": 4,
 "nbformat_minor": 5
}
