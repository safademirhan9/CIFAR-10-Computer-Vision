{
 "cells": [
  {
   "cell_type": "markdown",
   "id": "a50d6157",
   "metadata": {},
   "source": [
    "## Import necessary libraries"
   ]
  },
  {
   "cell_type": "code",
   "execution_count": 2,
   "id": "cfa7d7e6",
   "metadata": {},
   "outputs": [],
   "source": [
    "import cv2\n",
    "import numpy as np\n",
    "from skimage.feature import hog\n",
    "from sklearn import svm\n",
    "from sklearn.metrics import accuracy_score\n",
    "from sklearn.model_selection import train_test_split\n",
    "from sklearn.neighbors import KNeighborsClassifier\n",
    "from keras.datasets import cifar10"
   ]
  },
  {
   "cell_type": "markdown",
   "id": "ae58f525",
   "metadata": {},
   "source": [
    "## Load CIFAR-10 dataset"
   ]
  },
  {
   "cell_type": "code",
   "execution_count": 3,
   "id": "4b5546cf",
   "metadata": {},
   "outputs": [],
   "source": [
    "(X_train, y_train), (X_test, y_test) = cifar10.load_data()"
   ]
  },
  {
   "cell_type": "markdown",
   "id": "3e4ff731",
   "metadata": {},
   "source": [
    "## Convert images to grayscale and resize them to (128, 128"
   ]
  },
  {
   "cell_type": "code",
   "execution_count": 4,
   "id": "4839938a",
   "metadata": {},
   "outputs": [],
   "source": [
    "def preprocess(img):\n",
    "    img_gray = cv2.cvtColor(img, cv2.COLOR_RGB2GRAY)\n",
    "    img_resized = cv2.resize(img_gray, (128, 128))\n",
    "    return img_resized\n",
    "\n",
    "X_train_processed = np.array([preprocess(img) for img in X_train])\n",
    "X_test_processed = np.array([preprocess(img) for img in X_test])"
   ]
  },
  {
   "cell_type": "markdown",
   "id": "8abf3179",
   "metadata": {},
   "source": [
    "## Extract HOG features from images"
   ]
  },
  {
   "cell_type": "code",
   "execution_count": 5,
   "id": "aa39cc73",
   "metadata": {},
   "outputs": [],
   "source": [
    "def extract_hog_features(img):\n",
    "    features = hog(img, orientations=9, pixels_per_cell=(8, 8), cells_per_block=(2, 2))\n",
    "    return features\n",
    "\n",
    "X_train_features = np.array([extract_hog_features(img) for img in X_train_processed])\n",
    "X_test_features = np.array([extract_hog_features(img) for img in X_test_processed])\n"
   ]
  },
  {
   "cell_type": "markdown",
   "id": "7129168b",
   "metadata": {},
   "source": [
    "## Flatten features"
   ]
  },
  {
   "cell_type": "code",
   "execution_count": 8,
   "id": "630b5030",
   "metadata": {},
   "outputs": [],
   "source": [
    "X_train_flattened = X_train_features.reshape(X_train_features.shape[0], -1)\n",
    "X_test_flattened = X_test_features.reshape(X_test_features.shape[0], -1)"
   ]
  },
  {
   "cell_type": "markdown",
   "id": "5122c07f",
   "metadata": {},
   "source": [
    "## Train kNN model"
   ]
  },
  {
   "cell_type": "code",
   "execution_count": 9,
   "id": "8a2809bc",
   "metadata": {},
   "outputs": [
    {
     "name": "stderr",
     "output_type": "stream",
     "text": [
      "c:\\Users\\Safa Demirhan\\anaconda3\\lib\\site-packages\\sklearn\\utils\\validation.py:993: DataConversionWarning: A column-vector y was passed when a 1d array was expected. Please change the shape of y to (n_samples, ), for example using ravel().\n",
      "  y = column_or_1d(y, warn=True)\n"
     ]
    },
    {
     "data": {
      "text/plain": [
       "SVC(C=1, kernel='linear', random_state=42)"
      ]
     },
     "execution_count": 9,
     "metadata": {},
     "output_type": "execute_result"
    }
   ],
   "source": [
    "model = KNeighborsClassifier(n_neighbors=5)\n",
    "model.fit(X_train_features, y_train)"
   ]
  },
  {
   "cell_type": "markdown",
   "id": "369f1284",
   "metadata": {},
   "source": [
    "## Evaluate model on test set"
   ]
  },
  {
   "cell_type": "code",
   "execution_count": 10,
   "id": "323ae3f5",
   "metadata": {},
   "outputs": [
    {
     "name": "stdout",
     "output_type": "stream",
     "text": [
      "Accuracy: 0.484\n"
     ]
    }
   ],
   "source": [
    "y_pred = model.predict(X_test_features)\n",
    "accuracy = accuracy_score(y_test, y_pred)\n",
    "print(\"Accuracy:\", accuracy)"
   ]
  }
 ],
 "metadata": {
  "kernelspec": {
   "display_name": "Python 3 (ipykernel)",
   "language": "python",
   "name": "python3"
  },
  "language_info": {
   "codemirror_mode": {
    "name": "ipython",
    "version": 3
   },
   "file_extension": ".py",
   "mimetype": "text/x-python",
   "name": "python",
   "nbconvert_exporter": "python",
   "pygments_lexer": "ipython3",
   "version": "3.9.13"
  },
  "vscode": {
   "interpreter": {
    "hash": "4e5070f347afcddb4c93d4aaa35e31949f8e0ee28187047743e31c60ee29e25c"
   }
  }
 },
 "nbformat": 4,
 "nbformat_minor": 5
}
