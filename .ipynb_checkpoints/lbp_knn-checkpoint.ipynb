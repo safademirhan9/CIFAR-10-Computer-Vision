{
 "cells": [
  {
   "cell_type": "markdown",
   "id": "3a250dd1-9821-4b71-bfd8-658f067557a3",
   "metadata": {},
   "source": [
    "## Import necessary libraries"
   ]
  },
  {
   "cell_type": "code",
   "execution_count": 2,
   "id": "9f59a783-1e89-4aa7-96fb-dd4e1f6466ee",
   "metadata": {},
   "outputs": [],
   "source": [
    "import cv2\n",
    "import numpy as np\n",
    "from sklearn.model_selection import train_test_split\n",
    "from sklearn.neighbors import KNeighborsClassifier\n",
    "from sklearn.metrics import accuracy_score\n",
    "from keras.datasets import cifar10\n",
    "from skimage.feature import local_binary_pattern"
   ]
  },
  {
   "cell_type": "markdown",
   "id": "743d0b88-3c85-45e4-89a6-a00220280123",
   "metadata": {},
   "source": [
    "## Load CIFAR-10 dataset"
   ]
  },
  {
   "cell_type": "code",
   "execution_count": 4,
   "id": "81b44937-c237-4bea-9e8c-f28a91e898bf",
   "metadata": {},
   "outputs": [],
   "source": [
    "(X_train, y_train), (X_test, y_test) = cifar10.load_data()"
   ]
  },
  {
   "cell_type": "markdown",
   "id": "cc610b23-a98c-4f6d-a543-022eff12d4a3",
   "metadata": {},
   "source": [
    "## Convert images to grayscale and resize them to (64, 64)"
   ]
  },
  {
   "cell_type": "code",
   "execution_count": 5,
   "id": "9fc17834-754f-411a-a029-24181e91cc47",
   "metadata": {},
   "outputs": [],
   "source": [
    "def preprocess(img):\n",
    "    img_gray = cv2.cvtColor(img, cv2.COLOR_RGB2GRAY)\n",
    "    img_resized = cv2.resize(img_gray, (64, 64))\n",
    "    return img_resized\n",
    "\n",
    "X_train_processed = np.array([preprocess(img) for img in X_train])\n",
    "X_test_processed = np.array([preprocess(img) for img in X_test])"
   ]
  },
  {
   "cell_type": "markdown",
   "id": "21b830fa-da0e-4698-b79a-8a8fdf2a01f0",
   "metadata": {},
   "source": [
    "# Extract LBP features from images"
   ]
  },
  {
   "cell_type": "code",
   "execution_count": 8,
   "id": "7775362d-d6d2-4e93-ad56-170edb8e3f57",
   "metadata": {},
   "outputs": [],
   "source": [
    "def extract_lbp_features(img):\n",
    "    lbp = local_binary_pattern(img, 8, 1)\n",
    "    hist, _ = np.histogram(lbp, bins=np.arange(0, 257), range=(0, 256))\n",
    "    hist = hist.astype('float32')\n",
    "    hist /= (hist.sum() + 1e-7)\n",
    "    return hist\n",
    "\n",
    "# Loop through each image in the training set\n",
    "X_train_features = []\n",
    "for img in X_train_processed:\n",
    "    features = extract_lbp_features(img)\n",
    "    X_train_features.append(features)\n",
    "\n",
    "# Loop through each image in the test set\n",
    "X_test_features = []\n",
    "for img in X_test_processed:\n",
    "    features = extract_lbp_features(img)\n",
    "    X_test_features.append(features)\n",
    "\n",
    "X_train_features = np.vstack(X_train_features)\n",
    "X_test_features = np.vstack(X_test_features)\n",
    "\n",
    "# Split the data into training and testing sets\n",
    "X_train, X_test, y_train, y_test = train_test_split(X_train_features, y_train, test_size=0.2, random_state=42)"
   ]
  },
  {
   "cell_type": "markdown",
   "id": "1b133a68-261f-4538-9f7e-cf76be4cf7cb",
   "metadata": {},
   "source": [
    "## Train kNN model"
   ]
  },
  {
   "cell_type": "code",
   "execution_count": 9,
   "id": "efb3598c-e7a8-4404-a47f-a60948dc8383",
   "metadata": {},
   "outputs": [
    {
     "name": "stderr",
     "output_type": "stream",
     "text": [
      "C:\\Users\\Safa Demirhan\\anaconda3\\lib\\site-packages\\sklearn\\neighbors\\_classification.py:198: DataConversionWarning: A column-vector y was passed when a 1d array was expected. Please change the shape of y to (n_samples,), for example using ravel().\n",
      "  return self._fit(X, y)\n",
      "C:\\Users\\Safa Demirhan\\anaconda3\\lib\\site-packages\\sklearn\\neighbors\\_classification.py:228: FutureWarning: Unlike other reduction functions (e.g. `skew`, `kurtosis`), the default behavior of `mode` typically preserves the axis it acts along. In SciPy 1.11.0, this behavior will change: the default value of `keepdims` will become False, the `axis` over which the statistic is taken will be eliminated, and the value None will no longer be accepted. Set `keepdims` to True or False to avoid this warning.\n",
      "  mode, _ = stats.mode(_y[neigh_ind, k], axis=1)\n"
     ]
    },
    {
     "name": "stdout",
     "output_type": "stream",
     "text": [
      "Accuracy: 0.3373\n"
     ]
    }
   ],
   "source": [
    "model = KNeighborsClassifier(n_neighbors=5)\n",
    "model.fit(X_train, y_train)\n",
    "\n",
    "# Evaluate model on test set\n",
    "y_pred = model.predict(X_test)\n",
    "accuracy = accuracy_score(y_test, y_pred)\n",
    "print(\"Accuracy:\", accuracy)"
   ]
  }
 ],
 "metadata": {
  "kernelspec": {
   "display_name": "Python 3 (ipykernel)",
   "language": "python",
   "name": "python3"
  },
  "language_info": {
   "codemirror_mode": {
    "name": "ipython",
    "version": 3
   },
   "file_extension": ".py",
   "mimetype": "text/x-python",
   "name": "python",
   "nbconvert_exporter": "python",
   "pygments_lexer": "ipython3",
   "version": "3.9.13"
  }
 },
 "nbformat": 4,
 "nbformat_minor": 5
}
