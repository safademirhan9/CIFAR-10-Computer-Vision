{
 "cells": [
  {
   "cell_type": "markdown",
   "id": "67c1a1e9-cca7-4aad-9137-eac3f70fc050",
   "metadata": {},
   "source": [
    "## Import necessary libraries"
   ]
  },
  {
   "cell_type": "code",
   "execution_count": 1,
   "id": "9c104fc5-9de1-4576-94e4-aa5614585031",
   "metadata": {},
   "outputs": [],
   "source": [
    "import cv2\n",
    "import numpy as np\n",
    "from sklearn.model_selection import train_test_split\n",
    "from sklearn.svm import SVC\n",
    "from sklearn.metrics import accuracy_score\n",
    "from keras.datasets import cifar10\n",
    "from skimage.feature import local_binary_pattern"
   ]
  },
  {
   "cell_type": "markdown",
   "id": "e1054277-6ecf-469f-9ae0-66601f47bd2d",
   "metadata": {},
   "source": [
    "## Load CIFAR-10 dataset"
   ]
  },
  {
   "cell_type": "code",
   "execution_count": 2,
   "id": "56f7172c-127d-4b58-95a4-805cc12f9245",
   "metadata": {},
   "outputs": [],
   "source": [
    "(X_train, y_train), (X_test, y_test) = cifar10.load_data()"
   ]
  },
  {
   "cell_type": "markdown",
   "id": "1867bc5d-b12a-4952-aa2c-bfe5bdb84a82",
   "metadata": {},
   "source": [
    "## Convert images to grayscale and resize to (64, 64)"
   ]
  },
  {
   "cell_type": "code",
   "execution_count": 3,
   "id": "829cb095-3f6d-47a9-bce6-1248fdcf98c6",
   "metadata": {},
   "outputs": [],
   "source": [
    "def preprocess(img):\n",
    "    img_gray = cv2.cvtColor(img, cv2.COLOR_RGB2GRAY)\n",
    "    img_resized = cv2.resize(img_gray, (64, 64))\n",
    "    return img_resized\n",
    "\n",
    "X_train_processed = np.array([preprocess(img) for img in X_train])\n",
    "X_test_processed = np.array([preprocess(img) for img in X_test])\n",
    "\n",
    "# Extract LBP features from images\n",
    "def extract_lbp_features(img):\n",
    "    lbp = local_binary_pattern(img, 8, 1)\n",
    "    hist, _ = np.histogram(lbp, bins=np.arange(0, 257), range=(0, 256))\n",
    "    hist = hist.astype('float32')\n",
    "    hist /= (hist.sum() + 1e-7)\n",
    "    return hist\n",
    "\n",
    "# Loop through each image in the training set\n",
    "X_train_features = []\n",
    "for img in X_train_processed:\n",
    "    features = extract_lbp_features(img)\n",
    "    X_train_features.append(features)\n",
    "\n",
    "# Loop through each image in the test set\n",
    "X_test_features = []\n",
    "for img in X_test_processed:\n",
    "    features = extract_lbp_features(img)\n",
    "    X_test_features.append(features)\n",
    "\n",
    "X_train_features = np.vstack(X_train_features)\n",
    "X_test_features = np.vstack(X_test_features)"
   ]
  },
  {
   "cell_type": "markdown",
   "id": "dc6c3f74-779f-408c-b460-a4df306cbefd",
   "metadata": {},
   "source": [
    "## Train SVM model"
   ]
  },
  {
   "cell_type": "code",
   "execution_count": 4,
   "id": "8e510936-6cdf-4673-88c4-fb98c38bb478",
   "metadata": {},
   "outputs": [
    {
     "name": "stderr",
     "output_type": "stream",
     "text": [
      "C:\\Users\\Safa Demirhan\\anaconda3\\lib\\site-packages\\sklearn\\utils\\validation.py:993: DataConversionWarning: A column-vector y was passed when a 1d array was expected. Please change the shape of y to (n_samples, ), for example using ravel().\n",
      "  y = column_or_1d(y, warn=True)\n"
     ]
    },
    {
     "data": {
      "text/plain": [
       "SVC(kernel='linear', random_state=42)"
      ]
     },
     "execution_count": 4,
     "metadata": {},
     "output_type": "execute_result"
    }
   ],
   "source": [
    "# Split the data into training and testing sets\n",
    "X_train, X_test, y_train, y_test = train_test_split(X_train_features, y_train, test_size=0.2, random_state=42)\n",
    "\n",
    "\n",
    "model = SVC(kernel='linear', C=1.0, random_state=42)\n",
    "model.fit(X_train, y_train)"
   ]
  },
  {
   "cell_type": "markdown",
   "id": "48d9b63e-097a-4117-a07e-98b9fcbb896b",
   "metadata": {},
   "source": [
    "## Evaluate model on test set"
   ]
  },
  {
   "cell_type": "code",
   "execution_count": 5,
   "id": "bca6efec-b49d-4991-936f-5a145e7c9ac1",
   "metadata": {},
   "outputs": [
    {
     "name": "stdout",
     "output_type": "stream",
     "text": [
      "Accuracy: 0.3366\n"
     ]
    }
   ],
   "source": [
    "y_pred = model.predict(X_test)\n",
    "accuracy = accuracy_score(y_test, y_pred)\n",
    "print(\"Accuracy:\", accuracy)"
   ]
  }
 ],
 "metadata": {
  "kernelspec": {
   "display_name": "Python 3 (ipykernel)",
   "language": "python",
   "name": "python3"
  },
  "language_info": {
   "codemirror_mode": {
    "name": "ipython",
    "version": 3
   },
   "file_extension": ".py",
   "mimetype": "text/x-python",
   "name": "python",
   "nbconvert_exporter": "python",
   "pygments_lexer": "ipython3",
   "version": "3.9.13"
  }
 },
 "nbformat": 4,
 "nbformat_minor": 5
}
